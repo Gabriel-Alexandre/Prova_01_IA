{
 "cells": [
  {
   "cell_type": "markdown",
   "id": "b4a3f326",
   "metadata": {},
   "source": [
    "## Questão 1\n",
    "\n",
    "### Definições:\n",
    "\n",
    "- **Objetivo:** Prever os autores de obras de arte do impressionismo.\n",
    "- **Ambiente:** Museu de arte, quadros e desenhos.\n",
    "- **Atuadores/ações:** Software que informa autor da obra de acordo com as características da imagem.\n",
    "- **Sensores/percepções:** Pixels de intensidade variável e cor.\n",
    "- **Medidas de desempenho:** Número de acertos.\n",
    "\n",
    "### De onde virão os dados ?\n",
    "\n",
    "Eu iria sugerir a construção de uma base de dados seguindo um passo a passo semelhante ao descrito na criação da base [Impressionist_Classifier_Data](https://www.kaggle.com/datasets/delayedkarma/impressionist-classifier-data), no qual primeiro todo conteúdo relevante é baixado do [Wikiart](https://www.wikiart.org/en/paintings-by-style/impressionism#!#filterName:all-works,viewType:masonry), que no caso da criação da base para identificar autores impressionistas o ideal seria baixar todas as imagens impressionistas que possuem o nome do autor, e para isso seria usado um script (implementado pessoalmente ou utilizando o repositório público: [lucasdavid/wikiart](https://github.com/lucasdavid/wikiart)) que baixa as imagens e as organiza em diretórios diferentes de acodo o nome do autor.\n",
    "\n",
    "### Como será a entrada ?\n",
    "\n",
    "A entrada no geral é uma imagem, pode ser uma foto tirada de um quadro ou um desenho, ou até mesmo um desenho feito digitalmente e exportado no formato de imagem padrão.\n",
    "\n",
    "### Exemplos de entrada e saída:\n",
    "\n",
    "1. **Entrada:** Foto do quadro \"Road to the Saint-Simeon Farm\". **Saída:** Claúdio Monet.\n",
    "2. **Entrada:** Desenho feito digitalmente do quadro \"Tableau I\". **Saída:** Piet Mondrian.\n",
    "3. **Entrada:** Foto de um desenho do quadro \"Young Spartans Exercising\". **Saída:** Edgar Degas.\n",
    "4. **Entrada:** Desenho feito digitalmente do quadro \"Farm in Normandy\". **Saída:** Autor não reconhecido.\n",
    "5. **Entrada:** Foto do quadro \"Music in the Tuileries Garden\". **Saída:** Edouard Manet."
   ]
  },
  {
   "cell_type": "markdown",
   "id": "bd3135e4",
   "metadata": {},
   "source": [
    "## --------------------------------------------------------------------------------------------------"
   ]
  },
  {
   "cell_type": "markdown",
   "id": "a1ce5a1f",
   "metadata": {},
   "source": [
    "## Questão 2\n",
    "\n",
    "### Classificação\n",
    "\n",
    "- **Base:** [English Premier League(2020-21)](https://www.kaggle.com/datasets/rajatrc1705/english-premier-league202021).\n",
    "\n",
    "- **Entradas:** Idade, número de jogos, tempo jogado, assitências e gols.\n",
    "- **Saída:** Posição que atende melhor as características do jogador.\n",
    "- **Motivação da previsão da saída:** Ajudar o time a entender qual a melhor posicação para os seus jogadores da base e do time principal de acordo com suas caracteríscas.\n",
    "\n",
    "### Regressão\n",
    "\n",
    "- **Base:** [World University Rankings 2021](https://www.kaggle.com/datasets/matheusgratz/world-university-rankings-2021).\n",
    "\n",
    "- **Entradas:** Pontuação dos professores, potuação de pesquisa e potuação de citações.\n",
    "- **Saída:** Previsão da pontuação de renda do setor.\n",
    "- **Motivação da previsão da saída:** Analisar quais pontos da universidade devem ser fortificados para se ter uma maior potuação de renda do setor.\n",
    "\n",
    "### Classificação ou Regressão\n",
    "\n",
    "- **Base:** [LoL Challenger Soloq Data (Jan, Kr-Na-Euw)](https://www.kaggle.com/datasets/andrewasuter/lol-challenger-soloq-data-jan-krnaeuw).\n",
    "\n",
    "#### Classificação\n",
    "\n",
    "- **Entradas:** Número de assistências, dano em torres, dano em objetivos e dano total.\n",
    "- **Saída:** Rotular campeões que melhor atendem as características de entrada.\n",
    "- **Motivação da previsão da saída:** Ajudar times em competições profissionais, pois os pontos fortes e fracos dos times são conhecidos e medidos a partir das características de entrada, como: um time é bom em derrubar torres, então tem o seu dano em torres é alto, mas esse time não tem um número de abates bom, então seu dano total é baixo. Nesse sentido, saber quais campeões atendem melhor as características dos times pode fazer um time ter vantagem sobre seu adversário.\n",
    "\n",
    "#### Regressão\n",
    "\n",
    "- **Entradas:** Campeões, função no jogo (role) e lado do mapa.\n",
    "- **Saída:** Previsão de dano em torres.\n",
    "- **Motivação da previsão da saída:** Também ajudar times em competições profissionais, mas em um estágio diferente, que seria depois de os times já terem escolhido seus campeões, a função de cada jogador e o lado do mapa, pois a partir da saída os jogadores teriam a informação de quanto da estratégia de derrubar torres pode ser explorada ao longo da partida, isso pode ser importante para definir o objetivo principal do time na partida."
   ]
  },
  {
   "cell_type": "markdown",
   "id": "251a4cfb",
   "metadata": {},
   "source": [
    "## --------------------------------------------------------------------------------------------------"
   ]
  },
  {
   "cell_type": "markdown",
   "id": "8fc1f5aa",
   "metadata": {},
   "source": [
    "## Questão 3\n",
    "\n",
    "### Supervisionado\n",
    "\n",
    "- **Base:** [Anime DataSet 2022](https://www.kaggle.com/datasets/vishalmane10/anime-dataset-2022).\n",
    "\n",
    "- O exemplo abaixo utiliza a base de dados [Anime DataSet 2022](https://www.kaggle.com/datasets/vishalmane10/anime-dataset-2022) para resolver um problema de regressão do aprendizado supervisionado.\n",
    "\n",
    "##### Regressão\n",
    "\n",
    "- **Entradas:** Tipo (forma de distribuição), número de episódios, estúdio de produção, temporada de lançamento, gêneros (tags).\n",
    "- **Saída:** Previsão da avaliação dos usuários.\n",
    "- **Motivação da previsão da saída:** Analisar qual o grau de aceitação da comunidade as características de um novo anime.\n",
    "\n",
    "### Não supervisionado\n",
    "\n",
    "- **Base:** [Customer Personality Analysis](https://www.kaggle.com/datasets/imakash3011/customer-personality-analysis).\n",
    "\n",
    "- **Entradas:** Data de nascimento, nível de educação, renda e número de filhos.\n",
    "- **Saída:** Conjuntos agrupados nas categorias - solteiro(a), noivo(a), casado(a) e divorciado(a).\n",
    "- **Motivação da previsão da saída:** Em uma rede social é importante conhecer as pessoas com características semelhantes para recomendar produtos e conteúdos da aplicação de acordo com essas características. Nesse contexto, a saída pode ser usada para identificar usuários solteiros e recomendar a conexão entre eles.\n",
    "\n",
    "### Supervisionado e não supervisionado\n",
    "\n",
    "- **Base:** [State of Data Brazil 2021](https://www.kaggle.com/datasets/datahackers/state-of-data-2021).\n",
    "\n",
    "##### Supervisionado\n",
    "\n",
    "- O exemplo abaixo utiliza a base de dados [State of Data Brazil 2021](https://www.kaggle.com/datasets/datahackers/state-of-data-2021) para resolver um problema de classificação do aprendizado supervisionado.\n",
    "\n",
    "\n",
    "- **Entradas:** Idade, UF de onde mora, região onde mora, região de origem, mudou de estado ou não e gênero da pessoa.\n",
    "- **Saída:** Rotular nível de ensino que atende melhor as características de entrada.\n",
    "- **Motivação da previsão da saída:** Pode ser interessante para recrutadores de empresas procurando por possíveis candidatos na internet, pois quando este dado está faltando o sistema poderia sugerir qual é o nível de ensino com maior probabilidade do possível candidato ter, a partir disso, o recrutador vai ter uma melhor noção do candidato e saber se vale apena fazer a abordagem ou não.\n",
    "\n",
    "##### Não supervisionado\n",
    "\n",
    "- **Entradas:** Idade, UF de onde mora, região onde mora, região de origem, mudou de estado ou não, gênero da pessoa e nível de ensino.\n",
    "- **Saída:** Conjuntos agrupados pelo estado de origem.\n",
    "- **Motivação da previsão da saída:** Pode ser interassente para empresas, no sentido de analise dos funcionários e distribuição desses nos projetos da empresa."
   ]
  },
  {
   "cell_type": "markdown",
   "id": "2f7792e9",
   "metadata": {},
   "source": [
    "## --------------------------------------------------------------------------------------------------"
   ]
  },
  {
   "cell_type": "markdown",
   "id": "13c51860",
   "metadata": {},
   "source": [
    "## Questão 4\n",
    "\n",
    "- **Base escolhida:** [English Premier League(2020-21)](https://www.kaggle.com/datasets/rajatrc1705/english-premier-league202021)."
   ]
  },
  {
   "cell_type": "code",
   "execution_count": null,
   "id": "ee6af54d",
   "metadata": {},
   "outputs": [],
   "source": [
    "import pandas as pd\n",
    "import numpy as np\n",
    "import statistics as st\n",
    "import matplotlib.pyplot as plt\n",
    "import plotly.express as px\n",
    "import math\n",
    "from sklearn import preprocessing\n",
    "from sklearn.preprocessing import RobustScaler\n",
    "from sklearn.decomposition import PCA\n",
    "\n",
    "from sklearn.neighbors import KNeighborsClassifier\n",
    "from sklearn.model_selection import train_test_split\n",
    "\n",
    "\n",
    "import seaborn as sns\n",
    "sns.set()"
   ]
  },
  {
   "cell_type": "code",
   "execution_count": null,
   "id": "3345ba9b",
   "metadata": {},
   "outputs": [],
   "source": [
    "import pandas as pd\n",
    "df = pd.read_csv('./EPL_20_21.csv')\n",
    "df"
   ]
  },
  {
   "cell_type": "markdown",
   "id": "f6799b86",
   "metadata": {},
   "source": [
    "### 1 - Aplique processos de pré-processamento necessários para execução do método K-NN"
   ]
  },
  {
   "cell_type": "code",
   "execution_count": null,
   "id": "1a0ff581",
   "metadata": {
    "scrolled": true
   },
   "outputs": [],
   "source": [
    "# Verificar se há dados faltosos\n",
    "print('Valores faltantes:\\n', df.isnull().sum())\n",
    "\n",
    "# Resultado: Não há dados faltantes na base."
   ]
  },
  {
   "cell_type": "code",
   "execution_count": null,
   "id": "689faccb",
   "metadata": {
    "scrolled": true
   },
   "outputs": [],
   "source": [
    "# Verificar tipos presentes nos dados\n",
    "df.info(verbose=True)"
   ]
  },
  {
   "cell_type": "code",
   "execution_count": null,
   "id": "2510d619",
   "metadata": {},
   "outputs": [],
   "source": [
    "# Transformar valores da coluna 'Position' para considerar apenas a posição mais jogada\n",
    "\n",
    "df['Position'] = df['Position'].str.split(',').str.get(0)\n",
    "df"
   ]
  },
  {
   "cell_type": "code",
   "execution_count": null,
   "id": "8b28b4fe",
   "metadata": {
    "scrolled": true
   },
   "outputs": [],
   "source": [
    "# Transformar atributos qualitativos em quantitativos\n",
    "\n",
    "le = preprocessing.LabelEncoder()\n",
    "for column in df.columns:\n",
    "    if df[column].dtypes == 'object':\n",
    "          df[column] = le.fit_transform(df[column])\n",
    "print(df)"
   ]
  },
  {
   "cell_type": "code",
   "execution_count": null,
   "id": "a40c18d5",
   "metadata": {
    "scrolled": true
   },
   "outputs": [],
   "source": [
    "# Verificar cada coluna de forma geral\n",
    "df.describe()"
   ]
  },
  {
   "cell_type": "code",
   "execution_count": null,
   "id": "c3b2b712",
   "metadata": {},
   "outputs": [],
   "source": [
    "# Verificar coluna de saída de forma geral\n",
    "print(df['Position'].describe())\n",
    "\n",
    "# Plotar gráfico boxplot para facilitar visualização dos dados\n",
    "plt.boxplot(df['Position'])\n",
    "plt.title('title')\n",
    "plt.xlabel('valores')\n",
    "plt.ylabel('campeão')\n",
    "\n",
    "# Identificação dos rótulos:\n",
    "# 0 - DF\n",
    "# 1 - FW\n",
    "# 2 - GK\n",
    "# 3 - MF"
   ]
  },
  {
   "cell_type": "markdown",
   "id": "196adc0a",
   "metadata": {},
   "source": [
    "### Análise dos dados obtidos: (Coluna de saída)\n",
    "\n",
    "- As dados são assimétricos positivos, pois a maior parte dos dados estão um pouco abaixo da mediana, isso significa que a base possui mais dados de Atacantes (FW) e Defensores (DF) que Goleiros (GK) e Meios de campos (MF).\n",
    "- Não possui outliers.\n",
    "- Os valores mínimo e máximo estão presentes nos quartis 1 e 3.\n",
    "- Possui dispersão máxima."
   ]
  },
  {
   "cell_type": "code",
   "execution_count": null,
   "id": "81808132",
   "metadata": {},
   "outputs": [],
   "source": [
    "# Verificar se há valores duplicados\n",
    "print('Valores duplicados:\\n', df.duplicated())\n",
    "\n",
    "#Resultado: Não há valores duplicados na base."
   ]
  },
  {
   "cell_type": "code",
   "execution_count": null,
   "id": "227ec6fc",
   "metadata": {},
   "outputs": [],
   "source": [
    "# Verificar porcentagem de cada classe de saída\n",
    "x = df['Position'].value_counts()/len(df)\n",
    "x"
   ]
  },
  {
   "cell_type": "markdown",
   "id": "1dbc5bb8",
   "metadata": {},
   "source": [
    "- A classe goleiro (GK) é menos presente nos dados, isso pode ser explicado, pois existe apenas um jogador que ocupa a posição de goleiro por time."
   ]
  },
  {
   "cell_type": "code",
   "execution_count": null,
   "id": "d5568445",
   "metadata": {},
   "outputs": [],
   "source": [
    "# Verificar correlação dos dados\n",
    "corr = df.corr()\n",
    "corr.style.background_gradient(cmap='coolwarm')\n",
    "\n",
    "#Starts e Mins possuem um alta correlação\n",
    "#Mins e Matches possuem uma alta correção\n",
    "#Starts e Matches possuem uma alta correlação\n",
    "#Passes_Attempted e Starts possuem uma alta correlação\n",
    "#Passes_Attempted e Mins possuem uma alta correlação"
   ]
  },
  {
   "cell_type": "code",
   "execution_count": null,
   "id": "66ec349e",
   "metadata": {},
   "outputs": [],
   "source": [
    "# Remover colunas com alta correlação para que fique apenas valores representativos na base\n",
    "dfcorr = df.drop(columns=['Starts', 'Mins', 'Matches'])\n",
    "\n",
    "# Analisar nova correlação\n",
    "corr = dfcorr.corr()\n",
    "corr.style.background_gradient(cmap='coolwarm')"
   ]
  },
  {
   "cell_type": "code",
   "execution_count": null,
   "id": "353b38d2",
   "metadata": {},
   "outputs": [],
   "source": [
    "# Escalar os dados\n",
    "from sklearn.preprocessing import StandardScaler\n",
    "sc_X = StandardScaler()\n",
    "\n",
    "X =  pd.DataFrame(sc_X.fit_transform(dfcorr.drop([\"Position\"],axis = 1),),\n",
    "        columns=['Name', 'Club', 'Position', 'Age', 'Goals', 'Assists', 'Passes_Attempted', 'Perc_Passes_Completed', 'Penalty_Goals', \n",
    "                 'Penalty_Attempted', 'xA', 'xG', 'Yellow_Cards', 'Red_Cards'])\n",
    "\n",
    "y = df.Position\n",
    "\n",
    "X.head()"
   ]
  },
  {
   "cell_type": "markdown",
   "id": "212ba2df",
   "metadata": {},
   "source": [
    "### 2- Escolha 2 valores de K e mostre os resultados (escolha 2 métricas de avaliação e mostre a matriz de confusão)?"
   ]
  },
  {
   "cell_type": "code",
   "execution_count": null,
   "id": "2e9d49bf",
   "metadata": {},
   "outputs": [],
   "source": [
    "# Separando a base em conjunto de teste e conjunto de treinamento\n",
    "X_train,X_test,y_train,y_test = train_test_split(X,y,test_size=0.3,random_state=1, stratify=y)"
   ]
  },
  {
   "cell_type": "code",
   "execution_count": null,
   "id": "38b57664",
   "metadata": {},
   "outputs": [],
   "source": [
    "# Avaliando resultados para k = 1\n",
    "knn = neighbors.KNeighborsClassifier(n_neighbors=1, algorithm=\"auto\")\n",
    "knn.fit(X_train, y_train)\n",
    "resultKNN = knn.predict(X_test)\n",
    "\n",
    "print(\"\\nK-NN: K = 1\")\n",
    "matrizConfusao = metrics.confusion_matrix(y_test, resultKNN)\n",
    "\n",
    "print(classification_report(y_test, resultKNN))\n",
    "print(\"\\n DF = 0| FW = 1| GK = 2| MF = 3\")\n",
    "pd.crosstab(y_test, resultKNN, rownames=['True'], colnames=['Predicted'], margins=True)"
   ]
  },
  {
   "cell_type": "code",
   "execution_count": null,
   "id": "1cd103bb",
   "metadata": {},
   "outputs": [],
   "source": [
    "# Avaliando resultados para k = 5\n",
    "knn = neighbors.KNeighborsClassifier(n_neighbors=5, algorithm=\"auto\")\n",
    "knn.fit(X_train, y_train)\n",
    "resultKNN = knn.predict(X_test)\n",
    "\n",
    "print(\"\\nK-NN: K = 5\")\n",
    "matrizConfusao = metrics.confusion_matrix(y_test, resultKNN)\n",
    "\n",
    "print(classification_report(y_test, resultKNN))\n",
    "print(\"\\n DF = 0| FW = 1| GK = 2| MF = 3\")\n",
    "pd.crosstab(y_test, resultKNN, rownames=['True'], colnames=['Predicted'], margins=True)"
   ]
  },
  {
   "cell_type": "markdown",
   "id": "c24f4fc3",
   "metadata": {},
   "source": [
    "- Por meio das métricas de avaliação (acurácia, precisão, revocação e pontuação F1) e da matriz confusão dos dois K's escolhidos, podemos verificar qual deles é o melhor para ser escolhido por ter maior probabilidade de se aproximar do ideal de classificação. A diferença dos resultados para os K's escolhidos é pequena, porém K=1, possui valores mais altos para revocação e potuação F1 o que implica em uma melhor predição de falsos positivos, e isso faz dele uma melhor escolha."
   ]
  },
  {
   "cell_type": "markdown",
   "id": "afba4222",
   "metadata": {},
   "source": [
    "### 3- Escolha 2 métricas de similaridade (diferentes distâncias ou outras métricas - correlação, por exemplo) para definir o(s) vizinho(s) mais próximos?"
   ]
  },
  {
   "cell_type": "code",
   "execution_count": null,
   "id": "02558fab",
   "metadata": {},
   "outputs": [],
   "source": [
    "knn = neighbors.KNeighborsClassifier(n_neighbors=1, algorithm=\"auto\", metric='manhattan')\n",
    "knn.fit(X_train, y_train)\n",
    "resultKNN = knn.predict(X_test)\n",
    "\n",
    "print(\"\\nK-NN: K = 1\")\n",
    "matrizConfusao = metrics.confusion_matrix(y_test, resultKNN)\n",
    "\n",
    "print(classification_report(y_test, resultKNN))\n",
    "print(\"\\n DF = 0| FW = 1| GK = 2| MF = 3\")\n",
    "pd.crosstab(y_test, resultKNN, rownames=['True'], colnames=['Predicted'], margins=True)"
   ]
  },
  {
   "cell_type": "code",
   "execution_count": null,
   "id": "d905b3ae",
   "metadata": {},
   "outputs": [],
   "source": [
    "knn = neighbors.KNeighborsClassifier(n_neighbors=1, algorithm=\"auto\", metric='euclidean')\n",
    "knn.fit(X_train, y_train)\n",
    "resultKNN = knn.predict(X_test)\n",
    "\n",
    "print(\"\\nK-NN: K = 1\")\n",
    "matrizConfusao = metrics.confusion_matrix(y_test, resultKNN)\n",
    "\n",
    "print(classification_report(y_test, resultKNN))\n",
    "print(\"\\n DF = 0| FW = 1| GK = 2| MF = 3\")\n",
    "pd.crosstab(y_test, resultKNN, rownames=['True'], colnames=['Predicted'], margins=True)"
   ]
  },
  {
   "cell_type": "markdown",
   "id": "7a2141c5",
   "metadata": {},
   "source": [
    "- A melhor distância para K=1, seria a distância Manhattan. Podemos verificar isso pelas métricas de avaliação informadas, pois apesar de as diferenças entre os resultados serem bem pequenas, elas existem, isso implica que a distância de Manhattan seria uma melhor escolha por ter valores de precisão, revocação e pontuação F1 um pouco maior."
   ]
  },
  {
   "cell_type": "markdown",
   "id": "c92a0e14",
   "metadata": {},
   "source": [
    "## --------------------------------------------------------------------------------------------------"
   ]
  },
  {
   "cell_type": "markdown",
   "id": "2f9f3fd6",
   "metadata": {},
   "source": [
    "## Questão 5\n",
    "\n",
    "### Em quais das bases selecionadas por vocês nas questões 2 E 3 se faz necessário o uso de redução ou agregação de atributos??? Mostre nelas onde e qual dos métodos seria usado e justifique."
   ]
  },
  {
   "cell_type": "markdown",
   "id": "97e260b7",
   "metadata": {},
   "source": [
    "### Analisando bases da questão 2:\n",
    "\n",
    "#### Bases:\n",
    "\n",
    "- [English Premier League(2020-21)](https://www.kaggle.com/datasets/rajatrc1705/english-premier-league202021).\n",
    "- [World University Rankings 2021](https://www.kaggle.com/datasets/matheusgratz/world-university-rankings-2021).\n",
    "- [LoL Challenger Soloq Data (Jan, Kr-Na-Euw)](https://www.kaggle.com/datasets/andrewasuter/lol-challenger-soloq-data-jan-krnaeuw)."
   ]
  },
  {
   "cell_type": "markdown",
   "id": "7127fffd",
   "metadata": {},
   "source": [
    "#### Base: [English Premier League(2020-21)](https://www.kaggle.com/datasets/rajatrc1705/english-premier-league202021)."
   ]
  },
  {
   "cell_type": "code",
   "execution_count": null,
   "id": "91528fdc",
   "metadata": {},
   "outputs": [],
   "source": [
    "import pandas as pd\n",
    "df = pd.read_csv('./EPL_20_21.csv')\n",
    "df"
   ]
  },
  {
   "cell_type": "markdown",
   "id": "68b0fb88",
   "metadata": {},
   "source": [
    "- Como mostrado na resolução do primeiro item da questão 4, para essa base foi necessário reduzir a dimensionalidade da base de dados, pois haviam algumas colunas que possuiam alta correlação entre si. Como a base, não possui dados faltando, duplicado ou inconsistentes, não foi necessário mais nenhuma técnica de processamento."
   ]
  },
  {
   "cell_type": "markdown",
   "id": "21b28e31",
   "metadata": {},
   "source": [
    "#### Base: [World University Rankings 2021](https://www.kaggle.com/datasets/matheusgratz/world-university-rankings-2021)."
   ]
  },
  {
   "cell_type": "code",
   "execution_count": null,
   "id": "e03578f6",
   "metadata": {
    "scrolled": false
   },
   "outputs": [],
   "source": [
    "import pandas as pd\n",
    "df = pd.read_csv('./universities_scores.csv')\n",
    "df"
   ]
  },
  {
   "cell_type": "code",
   "execution_count": null,
   "id": "13ffce05",
   "metadata": {
    "scrolled": true
   },
   "outputs": [],
   "source": [
    "# Verificar se há dados faltosos\n",
    "print('Valores faltantes:\\n', df.isnull().sum())\n",
    "\n",
    "# Verificar se há valores duplicados\n",
    "print('Valores duplicados:\\n', df.duplicated())\n",
    "\n",
    "# Transformar atributos qualitativos em quantitativos\n",
    "\n",
    "le = preprocessing.LabelEncoder()\n",
    "for column in df.columns:\n",
    "    if df[column].dtypes == 'object':\n",
    "          df[column] = le.fit_transform(df[column])\n",
    "print(df)"
   ]
  },
  {
   "cell_type": "code",
   "execution_count": null,
   "id": "7649f3a4",
   "metadata": {
    "scrolled": true
   },
   "outputs": [],
   "source": [
    "# Verificar correlação dos dados\n",
    "corr = df.corr()\n",
    "corr.style.background_gradient(cmap='coolwarm')"
   ]
  },
  {
   "cell_type": "code",
   "execution_count": null,
   "id": "305b9420",
   "metadata": {},
   "outputs": [],
   "source": [
    "# Remover colunas com alta correlação para que fique apenas valores representativos na base\n",
    "dfcorr = df.drop(columns=['research score', 'overall score'])\n",
    "\n",
    "# Analisar nova correlação\n",
    "corr = dfcorr.corr()\n",
    "corr.style.background_gradient(cmap='coolwarm')"
   ]
  },
  {
   "cell_type": "markdown",
   "id": "cbbc4e24",
   "metadata": {},
   "source": [
    "- Como essa base possui poucas colunas escolhi fazer a análise de correlação das colunas para realizar a redução da dimensionalidade, foi identificado alta correlação entre três colunas, então removendo duas colunas é o suficiente para que sobre apenas os valores representativos na base de dados resultante."
   ]
  },
  {
   "cell_type": "markdown",
   "id": "618c3ca4",
   "metadata": {},
   "source": [
    "#### Base: [LoL Challenger Soloq Data (Jan, Kr-Na-Euw)](https://www.kaggle.com/datasets/andrewasuter/lol-challenger-soloq-data-jan-krnaeuw)."
   ]
  },
  {
   "cell_type": "code",
   "execution_count": null,
   "id": "10b336c8",
   "metadata": {
    "scrolled": true
   },
   "outputs": [],
   "source": [
    "import pandas as pd\n",
    "df = pd.read_csv('./EUmatch.csv')\n",
    "df"
   ]
  },
  {
   "cell_type": "code",
   "execution_count": null,
   "id": "b2698894",
   "metadata": {},
   "outputs": [],
   "source": [
    "# Verificar se há dados faltosos\n",
    "print('Valores faltantes:\\n', df.isnull().sum())\n",
    "\n",
    "# Verificar se há valores duplicados\n",
    "print('Valores duplicados:\\n', df.duplicated())\n",
    "\n",
    "# Transformar atributos qualitativos em quantitativos\n",
    "\n",
    "le = preprocessing.LabelEncoder()\n",
    "for column in df.columns:\n",
    "    if df[column].dtypes == 'object':\n",
    "          df[column] = le.fit_transform(df[column])\n",
    "print(df)"
   ]
  },
  {
   "cell_type": "code",
   "execution_count": null,
   "id": "99cc1f27",
   "metadata": {
    "scrolled": true
   },
   "outputs": [],
   "source": [
    "# Verificar correlação dos dados\n",
    "corr = df.corr()\n",
    "corr.style.background_gradient(cmap='coolwarm')"
   ]
  },
  {
   "cell_type": "code",
   "execution_count": null,
   "id": "984fc21c",
   "metadata": {},
   "outputs": [],
   "source": [
    "# Remover colunas com alta correlação para que fique apenas valores representativos na base\n",
    "dfcorr = df.drop(columns=['damage_turrets', 'gold_earned', 'turret_kills'])\n",
    "\n",
    "# Analisar nova correlação\n",
    "corr = dfcorr.corr()\n",
    "corr.style.background_gradient(cmap='coolwarm')"
   ]
  },
  {
   "cell_type": "markdown",
   "id": "8ab5f107",
   "metadata": {},
   "source": [
    "- Como essa base possui poucas colunas escolhi fazer a análise de correlação das colunas para realizar a redução da dimensionalidade, foi identificado alta correlação entre três colunas, então removendo quatro colunas é o suficiente para que sobre apenas os valores representativos na base de dados resultante."
   ]
  },
  {
   "cell_type": "markdown",
   "id": "1ff06285",
   "metadata": {},
   "source": [
    "### Analisando bases da questão 3:\n",
    "\n",
    "#### Bases:\n",
    "\n",
    "- [Anime DataSet 2022](https://www.kaggle.com/datasets/vishalmane10/anime-dataset-2022).\n",
    "- [Customer Personality Analysis](https://www.kaggle.com/datasets/imakash3011/customer-personality-analysis).\n",
    "- [State of Data Brazil 2021](https://www.kaggle.com/datasets/datahackers/state-of-data-2021)."
   ]
  },
  {
   "cell_type": "markdown",
   "id": "05452c39",
   "metadata": {},
   "source": [
    "#### Base: [Anime DataSet 2022](https://www.kaggle.com/datasets/vishalmane10/anime-dataset-2022)."
   ]
  },
  {
   "cell_type": "code",
   "execution_count": null,
   "id": "303b9868",
   "metadata": {
    "scrolled": true
   },
   "outputs": [],
   "source": [
    "import pandas as pd\n",
    "df = pd.read_csv('./Anime.csv')\n",
    "df"
   ]
  },
  {
   "cell_type": "code",
   "execution_count": null,
   "id": "bfcccb2f",
   "metadata": {},
   "outputs": [],
   "source": [
    "# Verificar se há dados faltosos\n",
    "print('Valores faltantes:\\n', df.isnull().sum())\n",
    "\n",
    "# Verificar se há valores duplicados\n",
    "print('Valores duplicados:\\n', df.duplicated())\n",
    "\n",
    "# Transformar atributos qualitativos em quantitativos\n",
    "\n",
    "le = preprocessing.LabelEncoder()\n",
    "for column in df.columns:\n",
    "    if df[column].dtypes == 'object':\n",
    "          df[column] = le.fit_transform(df[column])\n",
    "print(df)"
   ]
  },
  {
   "cell_type": "code",
   "execution_count": null,
   "id": "a597e5a1",
   "metadata": {},
   "outputs": [],
   "source": [
    "# Verificar correlação dos dados\n",
    "corr = df.corr()\n",
    "corr.style.background_gradient(cmap='coolwarm')"
   ]
  },
  {
   "cell_type": "code",
   "execution_count": null,
   "id": "e41c7400",
   "metadata": {},
   "outputs": [],
   "source": [
    "# Remover colunas com alta correlação para que fique apenas valores representativos na base\n",
    "dfcorr = df.drop(columns=['damage_turrets', 'gold_earned', 'turret_kills'])\n",
    "\n",
    "# Analisar nova correlação\n",
    "corr = dfcorr.corr()\n",
    "corr.style.background_gradient(cmap='coolwarm')"
   ]
  },
  {
   "cell_type": "markdown",
   "id": "5225e965",
   "metadata": {},
   "source": [
    "#### Base: [Customer Personality Analysis](https://www.kaggle.com/datasets/imakash3011/customer-personality-analysis)."
   ]
  },
  {
   "cell_type": "code",
   "execution_count": null,
   "id": "0a100954",
   "metadata": {},
   "outputs": [],
   "source": [
    "import pandas as pd\n",
    "df = pd.read_csv('./marketing_campaign.csv', sep='\\t')\n",
    "df"
   ]
  },
  {
   "cell_type": "code",
   "execution_count": null,
   "id": "e48ba8f1",
   "metadata": {},
   "outputs": [],
   "source": [
    "# Verificar se há dados faltosos\n",
    "print('Valores faltantes:\\n', df.isnull().sum())\n",
    "\n",
    "# Verificar se há valores duplicados\n",
    "print('Valores duplicados:\\n', df.duplicated())\n",
    "\n",
    "# Transformar atributos qualitativos em quantitativos\n",
    "\n",
    "le = preprocessing.LabelEncoder()\n",
    "for column in df.columns:\n",
    "    if df[column].dtypes == 'object':\n",
    "          df[column] = le.fit_transform(df[column])\n",
    "print(df)"
   ]
  },
  {
   "cell_type": "code",
   "execution_count": null,
   "id": "5a730aeb",
   "metadata": {},
   "outputs": [],
   "source": [
    "# Verificar correlação dos dados\n",
    "corr = df.corr()\n",
    "corr.style.background_gradient(cmap='coolwarm')"
   ]
  },
  {
   "cell_type": "code",
   "execution_count": null,
   "id": "3208baea",
   "metadata": {},
   "outputs": [],
   "source": [
    "# Remover colunas com alta correlação para que fique apenas valores representativos na base\n",
    "dfcorr = df.drop(columns=['damage_turrets', 'gold_earned', 'turret_kills'])\n",
    "\n",
    "# Analisar nova correlação\n",
    "corr = dfcorr.corr()\n",
    "corr.style.background_gradient(cmap='coolwarm')"
   ]
  },
  {
   "cell_type": "markdown",
   "id": "ceeb7db6",
   "metadata": {},
   "source": [
    "#### Base: [State of Data Brazil 2021](https://www.kaggle.com/datasets/datahackers/state-of-data-2021)."
   ]
  },
  {
   "cell_type": "code",
   "execution_count": null,
   "id": "056841c2",
   "metadata": {},
   "outputs": [],
   "source": [
    "import pandas as pd\n",
    "df = pd.read_csv('./State.csv')\n",
    "print(df)"
   ]
  },
  {
   "cell_type": "code",
   "execution_count": null,
   "id": "1793102f",
   "metadata": {},
   "outputs": [],
   "source": [
    "# Verificar se há dados faltosos\n",
    "print('Valores faltantes:\\n', df.isnull().sum())\n",
    "\n",
    "# Verificar se há valores duplicados\n",
    "print('Valores duplicados:\\n', df.duplicated())\n",
    "\n",
    "# Transformar atributos qualitativos em quantitativos\n",
    "\n",
    "le = preprocessing.LabelEncoder()\n",
    "for column in df.columns:\n",
    "    if df[column].dtypes == 'object':\n",
    "          df[column] = le.fit_transform(df[column])\n",
    "print(df)"
   ]
  },
  {
   "cell_type": "code",
   "execution_count": null,
   "id": "c45b031a",
   "metadata": {
    "scrolled": false
   },
   "outputs": [],
   "source": [
    "# Verificar correlação dos dados\n",
    "corr = df.corr()\n",
    "corr.style.background_gradient(cmap='coolwarm')"
   ]
  },
  {
   "cell_type": "code",
   "execution_count": null,
   "id": "c1e80997",
   "metadata": {},
   "outputs": [],
   "source": [
    "# Remover colunas com alta correlação para que fique apenas valores representativos na base\n",
    "dfcorr = df.drop(columns=['damage_turrets', 'gold_earned', 'turret_kills'])\n",
    "\n",
    "# Analisar nova correlação\n",
    "corr = dfcorr.corr()\n",
    "corr.style.background_gradient(cmap='coolwarm')"
   ]
  },
  {
   "cell_type": "markdown",
   "id": "2e3d1e2f",
   "metadata": {},
   "source": [
    "## --------------------------------------------------------------------------------------------------"
   ]
  },
  {
   "cell_type": "markdown",
   "id": "f0bbcd65",
   "metadata": {},
   "source": [
    "## Questão 6\n",
    "\n",
    "### Liste e explique os processos de pré-processamento necessários para o uso de métodos de inteligência artificial nas bases de dados selecionadas por vocês nas questões 2 E 3."
   ]
  },
  {
   "cell_type": "markdown",
   "id": "0dfdb64a",
   "metadata": {},
   "source": [
    "### Analisando bases da questão 2:\n",
    "\n",
    "#### Bases:\n",
    "\n",
    "- [English Premier League(2020-21)](https://www.kaggle.com/datasets/rajatrc1705/english-premier-league202021).\n",
    "- [World University Rankings 2021](https://www.kaggle.com/datasets/matheusgratz/world-university-rankings-2021).\n",
    "- [LoL Challenger Soloq Data (Jan, Kr-Na-Euw)](https://www.kaggle.com/datasets/andrewasuter/lol-challenger-soloq-data-jan-krnaeuw)."
   ]
  },
  {
   "cell_type": "markdown",
   "id": "a99869c2",
   "metadata": {},
   "source": [
    "#### Base: [English Premier League(2020-21)](https://www.kaggle.com/datasets/rajatrc1705/english-premier-league202021)."
   ]
  },
  {
   "cell_type": "markdown",
   "id": "6b4c0aac",
   "metadata": {},
   "source": [
    "#### Base: [World University Rankings 2021](https://www.kaggle.com/datasets/matheusgratz/world-university-rankings-2021)."
   ]
  },
  {
   "cell_type": "markdown",
   "id": "1f963117",
   "metadata": {},
   "source": [
    "#### Base: [LoL Challenger Soloq Data (Jan, Kr-Na-Euw)](https://www.kaggle.com/datasets/andrewasuter/lol-challenger-soloq-data-jan-krnaeuw)."
   ]
  },
  {
   "cell_type": "markdown",
   "id": "91404725",
   "metadata": {},
   "source": [
    "### Analisando bases da questão 3:\n",
    "\n",
    "#### Bases:\n",
    "\n",
    "- [Anime DataSet 2022](https://www.kaggle.com/datasets/vishalmane10/anime-dataset-2022).\n",
    "- [Customer Personality Analysis](https://www.kaggle.com/datasets/imakash3011/customer-personality-analysis).\n",
    "- [State of Data Brazil 2021](https://www.kaggle.com/datasets/datahackers/state-of-data-2021)."
   ]
  },
  {
   "cell_type": "markdown",
   "id": "adfcce9f",
   "metadata": {},
   "source": [
    "#### Base: [Anime DataSet 2022](https://www.kaggle.com/datasets/vishalmane10/anime-dataset-2022)."
   ]
  },
  {
   "cell_type": "markdown",
   "id": "0d9b8f88",
   "metadata": {},
   "source": [
    "#### Base: [Customer Personality Analysis](https://www.kaggle.com/datasets/imakash3011/customer-personality-analysis)."
   ]
  },
  {
   "cell_type": "markdown",
   "id": "96b01ca4",
   "metadata": {},
   "source": [
    "#### Base: [State of Data Brazil 2021](https://www.kaggle.com/datasets/datahackers/state-of-data-2021)."
   ]
  },
  {
   "cell_type": "markdown",
   "id": "a815d8a9",
   "metadata": {},
   "source": [
    "## --------------------------------------------------------------------------------------------------"
   ]
  },
  {
   "cell_type": "markdown",
   "id": "a0c9389f",
   "metadata": {},
   "source": [
    "## Questão 7\n",
    "\n",
    "### Elabore uma pergunta e responda sobre \"Preconceito e Inteligência Artificial\", refletindo aspectos importantes do método que um engenheiro de dados/cientista de dados deve conhecer e se preocupar garantindo ética nos modelos criados."
   ]
  },
  {
   "cell_type": "markdown",
   "id": "a438e00f",
   "metadata": {},
   "source": [
    "- **Pergunta:** Como um engenheiro de dados/cientista de dados pode buscar garantir ética nos seus modelos criados ?\n",
    "\n",
    "- **Resposta:** \n",
    "\n",
    "1. **Avaliando o contexto do problema:** Em muitos contextos IAs tomam deciões baseadas apenas buscando maximizar a saída, desconsiderando os aspectos de justiça e éticos, então o primeiro passo é avaliar o contexto no qual a IA vai trabalhar.\n",
    "2. **Realizando um coleta de dados cuidadosa:** É necessário garantir que os dados na base representam a realidade e não reflitam preconceitos existentes no dia a dia.\n",
    "3. **Preparando os dados de maneira cuidadosa:** É importante prestar atenção em quais dados estão sendo desconsiderados e quais são considerados com maior peso no modelo, pois esses dados podem ser relevantes de serem considerados ou não para garantir a ética do modelo.\n",
    "\n",
    "- No geral é importante ao longo de todo processo de desenvolvimento do modelo prestar atenção em como os dados estão impactando no resultado final, pois esse resultado final pode simplesmente está desconsiderando características importantes para garantir a ética do modelo, ou até mesmo esse resultado final pode está refletindo preconceitos e discriminações que antes eram \"aceitos\" pela sociedade."
   ]
  },
  {
   "cell_type": "markdown",
   "id": "c9bb0d9d",
   "metadata": {},
   "source": [
    "## --------------------------------------------------------------------------------------------------"
   ]
  },
  {
   "cell_type": "markdown",
   "id": "c458a8e2",
   "metadata": {},
   "source": [
    "#### Próximos passos:\n",
    "\n",
    "1. Melhorar questão 4\n",
    "2. Melhorar questão 1\n",
    "3. Fazer questões que faltam\n",
    "4. Melhorar questões no geral"
   ]
  },
  {
   "cell_type": "markdown",
   "id": "814b44e2",
   "metadata": {},
   "source": [
    "#### Métricas de avaliação\n",
    "\n",
    "1. Acurácia\n",
    "2. Precisão\n",
    "3. Revocação\n",
    "4. Pontuação F1\n",
    "\n",
    "#### Métricas de similaridade\n",
    "\n",
    "1. Distância euclidiana\n",
    "2. Distância de manhattan\n",
    "3. Distância do coseno"
   ]
  },
  {
   "cell_type": "markdown",
   "id": "0e91ced8",
   "metadata": {},
   "source": [
    "- olhar mais para precisão, pois o objetivo é ter um menor número de falsos positivos\n",
    "\n",
    "- precisão - precision (-FP, +FN)\n",
    "- revocação - recall (-FN, +FP)\n",
    "- pontuação f1 - relação entre precisão e revocação"
   ]
  },
  {
   "cell_type": "code",
   "execution_count": null,
   "id": "7d0c8ade",
   "metadata": {},
   "outputs": [],
   "source": [
    "# Verificar correlação dos dados\n",
    "corr = df.corr()\n",
    "corr.style.background_gradient(cmap='coolwarm')"
   ]
  },
  {
   "cell_type": "markdown",
   "id": "fff2689c",
   "metadata": {},
   "source": [
    "## Não relevante"
   ]
  },
  {
   "cell_type": "markdown",
   "id": "59694956",
   "metadata": {},
   "source": [
    "### PCA"
   ]
  },
  {
   "cell_type": "code",
   "execution_count": null,
   "id": "25a7c404",
   "metadata": {},
   "outputs": [],
   "source": [
    "# Normalização dos dados e para isso remove a mediana e dimensiona os dados de acordo com o intervalo quantil\n",
    "rs = RobustScaler() \n",
    "X = rs.fit_transform(df)\n",
    "\n",
    "print(X)\n",
    "\n",
    "from sklearn.decomposition import PCA\n",
    "\n",
    "pca = PCA(n_components = 5) #executando o PCA\n",
    "pca.fit(X)\n",
    "np.round(pca.explained_variance_ratio_, 2) \n",
    "\n",
    "#reduzindo dimensionalidade\n",
    "\n",
    "pca = PCA(n_components = 5) #executando o PCA\n",
    "pca.fit(df)\n",
    "np.round(pca.explained_variance_ratio_, 2) \n",
    "\n",
    "# como 1 componente principal explica 93% dos dados, será escolhido apenas uma componente principal"
   ]
  },
  {
   "cell_type": "code",
   "execution_count": null,
   "id": "3ccc82e8",
   "metadata": {},
   "outputs": [],
   "source": [
    "pca = PCA(n_components = 1) #executando o PCA\n",
    "pca.fit(df)\n",
    "X = pca.fit_transform(df)\n",
    "X\n",
    "#fig, ax = plt.subplots()\n",
    "#ax.scatter(X[:,0], X[:,1])\n",
    "#ax.axhline(linestyle='dashed') #linha no eixo x\n",
    "#ax.axvline(linestyle='dashed') #linha no eixo y\n",
    "#_ = ax.set_title(\"PCA\")"
   ]
  },
  {
   "cell_type": "markdown",
   "id": "aebb993f",
   "metadata": {},
   "source": [
    "### KNN"
   ]
  },
  {
   "cell_type": "code",
   "execution_count": null,
   "id": "fd6d5ab9",
   "metadata": {},
   "outputs": [],
   "source": [
    "trainSample = dfcorr.sample(frac=0.8, random_state = 1) #seleção de 75% da base para treinamento\n",
    "testSample = pd.concat([dfcorr, trainSample]).drop_duplicates(keep=False) #concatena a base original com a base de treinamento e exclui os duplicados, sobrando a amostra de teste\n",
    "\n",
    "trainTarget = trainSample[\"Position\"] #define o atributo alvo da base para o treinamento\n",
    "testTarget = testSample[\"Position\"] #define o atributo alvo da base para o teste\n",
    "\n",
    "\n",
    "del testSample[\"Position\"]\n",
    "del trainSample[\"Position\"]"
   ]
  },
  {
   "cell_type": "code",
   "execution_count": null,
   "id": "047116d7",
   "metadata": {},
   "outputs": [],
   "source": [
    "knn = neighbors.KNeighborsClassifier(n_neighbors=3, algorithm=\"auto\") #k vizinhos mais próximos = n_neighbors\n",
    "knn.fit(trainSample, trainTarget)\n",
    "resultKNN = knn.predict(testSample)\n",
    "\n",
    "#print(\"\\nK-NN\")\n",
    "#print(\"Acurácia: %0.2f\" % (metrics.accuracy_score(testTarget, resultKNN)))\n",
    "\n",
    "#matrizConfusao = metrics.confusion_matrix(testTarget, resultKNN)\n",
    "#print(\"Matriz de Confusão:\\n\",matrizConfusao)\n",
    "\n",
    "from sklearn.metrics import classification_report\n",
    "\n"
   ]
  },
  {
   "cell_type": "code",
   "execution_count": null,
   "id": "f094b435",
   "metadata": {},
   "outputs": [],
   "source": [
    "knn = neighbors.KNeighborsClassifier(n_neighbors=20, algorithm=\"auto\", metric='manhattan') #k vizinhos mais próximos = n_neighbors\n",
    "knn.fit(trainSample, trainTarget)\n",
    "resultKNN = knn.predict(testSample)\n",
    "\n",
    "print(\"\\nK-NN\")\n",
    "print(\"Acurácia: %0.2f\" % (metrics.accuracy_score(testTarget, resultKNN)))\n",
    "\n",
    "\n",
    "matrizConfusao = metrics.confusion_matrix(testTarget, resultKNN)\n",
    "print(\"Matriz de Confusão:\\n\",matrizConfusao)"
   ]
  },
  {
   "cell_type": "code",
   "execution_count": null,
   "id": "cf13c1de",
   "metadata": {},
   "outputs": [],
   "source": [
    "#Verificar a taxa de erro entre 1<= k < 15\n",
    "error = []\n",
    "\n",
    "for i in range(1, 15):  \n",
    "    knn = KNeighborsClassifier(n_neighbors=i)\n",
    "    knn.fit(X_train, y_train)\n",
    "    pred_i = knn.predict(X_test)\n",
    "    error.append(np.mean(pred_i != y_test))\n",
    "\n",
    "plt.figure(figsize=(12, 6))  \n",
    "plt.plot(range(1, 15), error, color='red', linestyle='dashed', marker='o', markerfacecolor='blue', markersize=10)\n",
    "plt.title('Error Rate K Value')  \n",
    "plt.xlabel('Valor de K')  \n",
    "plt.ylabel('Média de erro')"
   ]
  }
 ],
 "metadata": {
  "kernelspec": {
   "display_name": "Python 3 (ipykernel)",
   "language": "python",
   "name": "python3"
  },
  "language_info": {
   "codemirror_mode": {
    "name": "ipython",
    "version": 3
   },
   "file_extension": ".py",
   "mimetype": "text/x-python",
   "name": "python",
   "nbconvert_exporter": "python",
   "pygments_lexer": "ipython3",
   "version": "3.9.12"
  }
 },
 "nbformat": 4,
 "nbformat_minor": 5
}
